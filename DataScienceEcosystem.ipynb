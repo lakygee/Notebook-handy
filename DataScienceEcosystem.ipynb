{
 "cells": [
  {
   "cell_type": "markdown",
   "id": "3e90bb91-7a9c-4043-a256-31ff72972042",
   "metadata": {},
   "source": [
    "# Data Science Tools and Ecosystem are summarized.\n"
   ]
  },
  {
   "cell_type": "markdown",
   "id": "ad360121-25be-44b9-94b1-f523a5b8262a",
   "metadata": {},
   "source": [
    "In this notebook, Data Science Tools and Ecosystem are summarized.\n"
   ]
  },
  {
   "cell_type": "markdown",
   "id": "666a9aa0-02b8-4ada-b943-882e6cf39c78",
   "metadata": {},
   "source": [
    "Some of the popular languages that Data Scientists use are:\n",
    "1. Python\n",
    "2. R Language\n",
    "3. SQL\n"
   ]
  },
  {
   "cell_type": "markdown",
   "id": "914dbc9e-e581-4354-ba56-60f119539a58",
   "metadata": {},
   "source": [
    "Some of the commonly used libraries used by Data Scientist include:\n",
    "1. Scientific Computing libraries\n",
    "2. Visualization libraries\n",
    "3. Machine learning and deep learning libraries"
   ]
  },
  {
   "cell_type": "markdown",
   "id": "6b366809-26d8-4e58-9f3d-c25f5e55bb80",
   "metadata": {},
   "source": [
    "Data Science Tools|\n",
    "------------------|\n",
    "Jupyter|\n",
    "Apache Zeppelin|\n",
    "R Studio|\n"
   ]
  },
  {
   "cell_type": "markdown",
   "id": "6ec39025-981d-4ab2-b5e1-506987528697",
   "metadata": {},
   "source": [
    "### Below are a few examples of evaluating arithmetic expressions in Python.\n"
   ]
  },
  {
   "cell_type": "code",
   "execution_count": 1,
   "id": "b7f9a58a-b624-4190-be15-055971ef0152",
   "metadata": {},
   "outputs": [
    {
     "data": {
      "text/plain": [
       "17"
      ]
     },
     "execution_count": 1,
     "metadata": {},
     "output_type": "execute_result"
    }
   ],
   "source": [
    "# This is a simple arithmetic expression to multiply then add intergers\n",
    "(3*4)+5\n"
   ]
  },
  {
   "cell_type": "code",
   "execution_count": 2,
   "id": "fd82f5ed-c6be-4537-aa6a-2f3c33add099",
   "metadata": {},
   "outputs": [
    {
     "data": {
      "text/plain": [
       "3.3333333333333335"
      ]
     },
     "execution_count": 2,
     "metadata": {},
     "output_type": "execute_result"
    }
   ],
   "source": [
    "# This will convert 200 minutes to hours by dividing by 60\n",
    "200/60\n"
   ]
  },
  {
   "cell_type": "markdown",
   "id": "31701ea1-e831-4694-855e-97286fbc9259",
   "metadata": {},
   "source": [
    "**Objectives:**\n",
    "+ Python\n",
    "+ R Language\n",
    "+ SQL\n",
    "+ Julia\n",
    "+ Scala\n"
   ]
  },
  {
   "cell_type": "markdown",
   "id": "f4df876f-4304-47b9-8588-4b3ca65470d3",
   "metadata": {},
   "source": [
    "## Author\n",
    "Lucky Sobrejuanite\n"
   ]
  }
 ],
 "metadata": {
  "kernelspec": {
   "display_name": "Python",
   "language": "python",
   "name": "conda-env-python-py"
  },
  "language_info": {
   "codemirror_mode": {
    "name": "ipython",
    "version": 3
   },
   "file_extension": ".py",
   "mimetype": "text/x-python",
   "name": "python",
   "nbconvert_exporter": "python",
   "pygments_lexer": "ipython3",
   "version": "3.7.12"
  }
 },
 "nbformat": 4,
 "nbformat_minor": 5
}
